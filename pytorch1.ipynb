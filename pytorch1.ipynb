{
  "nbformat": 4,
  "nbformat_minor": 0,
  "metadata": {
    "colab": {
      "name": "pytorch1.ipynb",
      "provenance": [],
      "authorship_tag": "ABX9TyP0Kbq/oMrhyQwNBqQtRIhp",
      "include_colab_link": true
    },
    "kernelspec": {
      "name": "python3",
      "display_name": "Python 3"
    }
  },
  "cells": [
    {
      "cell_type": "markdown",
      "metadata": {
        "id": "view-in-github",
        "colab_type": "text"
      },
      "source": [
        "<a href=\"https://colab.research.google.com/github/seiyanbelltree/MLpractice/blob/master/pytorch1.ipynb\" target=\"_parent\"><img src=\"https://colab.research.google.com/assets/colab-badge.svg\" alt=\"Open In Colab\"/></a>"
      ]
    },
    {
      "cell_type": "code",
      "metadata": {
        "id": "U73xjzny0Pht"
      },
      "source": [
        "import numpy as np\n",
        "import matplotlib.pyplot as plt\n",
        "import pandas as pd\n",
        "import torch"
      ],
      "execution_count": 4,
      "outputs": []
    },
    {
      "cell_type": "code",
      "metadata": {
        "id": "jQSCBaxI3crX",
        "outputId": "11f8e800-4a52-40a8-8249-a9bc2060173e",
        "colab": {
          "base_uri": "https://localhost:8080/",
          "height": 34
        }
      },
      "source": [
        "a = torch.tensor([1,2,3])\n",
        "print(a, type(a))"
      ],
      "execution_count": 6,
      "outputs": [
        {
          "output_type": "stream",
          "text": [
            "tensor([1, 2, 3]) <class 'torch.Tensor'>\n"
          ],
          "name": "stdout"
        }
      ]
    },
    {
      "cell_type": "code",
      "metadata": {
        "id": "rYX-cmXz4DVg"
      },
      "source": [
        "b = torch.tensor([[1,2],\n",
        "                 [3,4]])"
      ],
      "execution_count": 9,
      "outputs": []
    },
    {
      "cell_type": "code",
      "metadata": {
        "id": "q4gJzLAa4U8M",
        "outputId": "9b00a5a1-f707-415b-cd64-3beeb72deab5",
        "colab": {
          "base_uri": "https://localhost:8080/",
          "height": 68
        }
      },
      "source": [
        "c = torch.tensor([[1,2,3],\n",
        "                  [4,5,6],\n",
        "                  [7,8,9]], dtype=torch.float64)\n",
        "c"
      ],
      "execution_count": 12,
      "outputs": [
        {
          "output_type": "execute_result",
          "data": {
            "text/plain": [
              "tensor([[1., 2., 3.],\n",
              "        [4., 5., 6.],\n",
              "        [7., 8., 9.]], dtype=torch.float64)"
            ]
          },
          "metadata": {
            "tags": []
          },
          "execution_count": 12
        }
      ]
    },
    {
      "cell_type": "code",
      "metadata": {
        "id": "Iso9dYLY4pMB",
        "outputId": "9965bd0d-5c29-4e01-aa4c-b91ba7c01989",
        "colab": {
          "base_uri": "https://localhost:8080/",
          "height": 34
        }
      },
      "source": [
        "d = torch.arange(0,10)\n",
        "d"
      ],
      "execution_count": 14,
      "outputs": [
        {
          "output_type": "execute_result",
          "data": {
            "text/plain": [
              "tensor([0, 1, 2, 3, 4, 5, 6, 7, 8, 9])"
            ]
          },
          "metadata": {
            "tags": []
          },
          "execution_count": 14
        }
      ]
    },
    {
      "cell_type": "code",
      "metadata": {
        "id": "A7TNv0xI4z0D",
        "outputId": "8666a359-1572-4c73-c160-d962eec9d43e",
        "colab": {
          "base_uri": "https://localhost:8080/",
          "height": 51
        }
      },
      "source": [
        "e = torch.zeros(2,3)\n",
        "e"
      ],
      "execution_count": 16,
      "outputs": [
        {
          "output_type": "execute_result",
          "data": {
            "text/plain": [
              "tensor([[0., 0., 0.],\n",
              "        [0., 0., 0.]])"
            ]
          },
          "metadata": {
            "tags": []
          },
          "execution_count": 16
        }
      ]
    },
    {
      "cell_type": "code",
      "metadata": {
        "id": "GAyCIvig5Da0",
        "outputId": "a154aa4a-ce1e-4ca5-e5e3-b031ae031198",
        "colab": {
          "base_uri": "https://localhost:8080/",
          "height": 51
        }
      },
      "source": [
        "f = torch.rand(2,3)\n",
        "print(f, type(f), f.size())"
      ],
      "execution_count": 20,
      "outputs": [
        {
          "output_type": "stream",
          "text": [
            "tensor([[0.3702, 0.6067, 0.3605],\n",
            "        [0.9473, 0.2655, 0.4130]]) <class 'torch.Tensor'> torch.Size([2, 3])\n"
          ],
          "name": "stdout"
        }
      ]
    },
    {
      "cell_type": "code",
      "metadata": {
        "id": "QdoO0tht5WjU",
        "outputId": "1e767460-572f-4ea8-b37a-e9bb0564bbd0",
        "colab": {
          "base_uri": "https://localhost:8080/",
          "height": 34
        }
      },
      "source": [
        "g = torch.tensor([1,2,3])\n",
        "#Tensor to Numpy\n",
        "g = g.numpy()\n",
        "type(g)"
      ],
      "execution_count": 32,
      "outputs": [
        {
          "output_type": "execute_result",
          "data": {
            "text/plain": [
              "numpy.ndarray"
            ]
          },
          "metadata": {
            "tags": []
          },
          "execution_count": 32
        }
      ]
    },
    {
      "cell_type": "code",
      "metadata": {
        "id": "ijg-b-bc6dMV",
        "outputId": "7863537c-9892-4c6d-88a7-4c2c2445f51f",
        "colab": {
          "base_uri": "https://localhost:8080/",
          "height": 34
        }
      },
      "source": [
        "#Numpy to Tensor\n",
        "g = torch.from_numpy(g)\n",
        "type(g)"
      ],
      "execution_count": 33,
      "outputs": [
        {
          "output_type": "execute_result",
          "data": {
            "text/plain": [
              "torch.Tensor"
            ]
          },
          "metadata": {
            "tags": []
          },
          "execution_count": 33
        }
      ]
    },
    {
      "cell_type": "markdown",
      "metadata": {
        "id": "l0Kkph0z7FVs"
      },
      "source": [
        "### 範囲指定\n",
        "\n"
      ]
    },
    {
      "cell_type": "code",
      "metadata": {
        "id": "kSiYMQ0-7T2N",
        "outputId": "00222e13-837e-4822-f59d-000897b7943e",
        "colab": {
          "base_uri": "https://localhost:8080/",
          "height": 136
        }
      },
      "source": [
        "a = torch.tensor([\n",
        "                  [0,1,2],\n",
        "                  [3,4,5],\n",
        "                  [6,7,8]\n",
        "])\n",
        "print(a[1,1])\n",
        "print(a[:,:])\n",
        "print(a[:1,2:])\n",
        "print(a[1, [0,2]])\n",
        "print(a[a>3])"
      ],
      "execution_count": 57,
      "outputs": [
        {
          "output_type": "stream",
          "text": [
            "tensor(4)\n",
            "tensor([[0, 1, 2],\n",
            "        [3, 4, 5],\n",
            "        [6, 7, 8]])\n",
            "tensor([[2]])\n",
            "tensor([3, 5])\n",
            "tensor([4, 5, 6, 7, 8])\n"
          ],
          "name": "stdout"
        }
      ]
    },
    {
      "cell_type": "code",
      "metadata": {
        "id": "zRbj2mTI7_ho",
        "outputId": "418802bd-cd2e-4312-d34a-cd9c6ca973bb",
        "colab": {
          "base_uri": "https://localhost:8080/",
          "height": 68
        }
      },
      "source": [
        "a[0,2] = 11\n",
        "print(a)"
      ],
      "execution_count": 58,
      "outputs": [
        {
          "output_type": "stream",
          "text": [
            "tensor([[ 0,  1, 11],\n",
            "        [ 3,  4,  5],\n",
            "        [ 6,  7,  8]])\n"
          ],
          "name": "stdout"
        }
      ]
    },
    {
      "cell_type": "code",
      "metadata": {
        "id": "AxXC-KT-9Hz0",
        "outputId": "cb7788b4-0413-4830-c431-08f3c18477e9",
        "colab": {
          "base_uri": "https://localhost:8080/",
          "height": 68
        }
      },
      "source": [
        "a[:,2] = 22\n",
        "print(a)"
      ],
      "execution_count": 59,
      "outputs": [
        {
          "output_type": "stream",
          "text": [
            "tensor([[ 0,  1, 22],\n",
            "        [ 3,  4, 22],\n",
            "        [ 6,  7, 22]])\n"
          ],
          "name": "stdout"
        }
      ]
    },
    {
      "cell_type": "code",
      "metadata": {
        "id": "Bzk8nE0Z9Ov-",
        "outputId": "1a5aa19e-0f8f-4f3f-c817-155f784b550b",
        "colab": {
          "base_uri": "https://localhost:8080/",
          "height": 68
        }
      },
      "source": [
        "a[a<10] = 33\n",
        "print(a)"
      ],
      "execution_count": 60,
      "outputs": [
        {
          "output_type": "stream",
          "text": [
            "tensor([[33, 33, 22],\n",
            "        [33, 33, 22],\n",
            "        [33, 33, 22]])\n"
          ],
          "name": "stdout"
        }
      ]
    },
    {
      "cell_type": "markdown",
      "metadata": {
        "id": "ob5Lprd897DO"
      },
      "source": [
        "### ベクトルの計算"
      ]
    },
    {
      "cell_type": "code",
      "metadata": {
        "id": "7MfKhcYL9oCX"
      },
      "source": [
        "a = torch.tensor([1,2,3])\n",
        "b = torch.tensor([4,5,6])\n",
        "c = torch.tensor([\n",
        "                  [6,7,8],\n",
        "                  [9,10,11]\n",
        "])"
      ],
      "execution_count": 61,
      "outputs": []
    },
    {
      "cell_type": "code",
      "metadata": {
        "id": "bUjPvY_--mbZ",
        "outputId": "e039ae51-c261-45af-f70b-db7948b9fffe",
        "colab": {
          "base_uri": "https://localhost:8080/",
          "height": 153
        }
      },
      "source": [
        "print(a + 3)\n",
        "print(a + b)\n",
        "print(c + 2)\n",
        "print(c + a)\n",
        "print(c + c)"
      ],
      "execution_count": 67,
      "outputs": [
        {
          "output_type": "stream",
          "text": [
            "tensor([4, 5, 6])\n",
            "tensor([5, 7, 9])\n",
            "tensor([[ 8,  9, 10],\n",
            "        [11, 12, 13]])\n",
            "tensor([[ 7,  9, 11],\n",
            "        [10, 12, 14]])\n",
            "tensor([[12, 14, 16],\n",
            "        [18, 20, 22]])\n"
          ],
          "name": "stdout"
        }
      ]
    },
    {
      "cell_type": "markdown",
      "metadata": {
        "id": "UinDEOIg_MKf"
      },
      "source": [
        "### 様々な値の計算"
      ]
    },
    {
      "cell_type": "code",
      "metadata": {
        "id": "KlRQygKO-6RO",
        "outputId": "89d9144c-3cae-4e0f-e88e-1a80863c4cec",
        "colab": {
          "base_uri": "https://localhost:8080/",
          "height": 34
        }
      },
      "source": [
        "a = torch.tensor([\n",
        "                  [1,2,3],\n",
        "                  [4,5,6.0]\n",
        "])\n",
        "m = torch.mean(a)\n",
        "print(m.item())"
      ],
      "execution_count": 71,
      "outputs": [
        {
          "output_type": "stream",
          "text": [
            "3.5\n"
          ],
          "name": "stdout"
        }
      ]
    },
    {
      "cell_type": "code",
      "metadata": {
        "id": "DHZ3Dfaw_cVv",
        "outputId": "1c2324a6-943b-461c-f605-ab95b8353042",
        "colab": {
          "base_uri": "https://localhost:8080/",
          "height": 34
        }
      },
      "source": [
        "m2 = a.mean()\n",
        "print(m.item())"
      ],
      "execution_count": 72,
      "outputs": [
        {
          "output_type": "stream",
          "text": [
            "3.5\n"
          ],
          "name": "stdout"
        }
      ]
    },
    {
      "cell_type": "code",
      "metadata": {
        "id": "jcYQUR-Z_3u5",
        "outputId": "2e45d3c1-e167-48a0-a630-032b51b0176a",
        "colab": {
          "base_uri": "https://localhost:8080/",
          "height": 51
        }
      },
      "source": [
        "#引数は軸の向き（axisのようなもの）\n",
        "print(a.mean(0))\n",
        "print(a.mean(1))"
      ],
      "execution_count": 74,
      "outputs": [
        {
          "output_type": "stream",
          "text": [
            "tensor([2.5000, 3.5000, 4.5000])\n",
            "tensor([2., 5.])\n"
          ],
          "name": "stdout"
        }
      ]
    },
    {
      "cell_type": "code",
      "metadata": {
        "id": "uddwRoIo_9JJ",
        "outputId": "ad882863-0725-4833-d491-08b49da6bf52",
        "colab": {
          "base_uri": "https://localhost:8080/",
          "height": 34
        }
      },
      "source": [
        "print(torch.sum(a).item())"
      ],
      "execution_count": 75,
      "outputs": [
        {
          "output_type": "stream",
          "text": [
            "21.0\n"
          ],
          "name": "stdout"
        }
      ]
    },
    {
      "cell_type": "code",
      "metadata": {
        "id": "uzT448pVANdK",
        "outputId": "45b65098-2126-455a-d132-6ea2f05c640b",
        "colab": {
          "base_uri": "https://localhost:8080/",
          "height": 34
        }
      },
      "source": [
        "print(torch.max(a).item())"
      ],
      "execution_count": 76,
      "outputs": [
        {
          "output_type": "stream",
          "text": [
            "6.0\n"
          ],
          "name": "stdout"
        }
      ]
    },
    {
      "cell_type": "code",
      "metadata": {
        "id": "ZV_zzhs9AQ_b",
        "outputId": "c2409dfb-8e98-4993-9268-bdc4b23c7b12",
        "colab": {
          "base_uri": "https://localhost:8080/",
          "height": 34
        }
      },
      "source": [
        "print(torch.min(a).item())"
      ],
      "execution_count": 77,
      "outputs": [
        {
          "output_type": "stream",
          "text": [
            "1.0\n"
          ],
          "name": "stdout"
        }
      ]
    },
    {
      "cell_type": "markdown",
      "metadata": {
        "id": "hlq9cwbhBuFm"
      },
      "source": [
        "### 演習"
      ]
    },
    {
      "cell_type": "code",
      "metadata": {
        "id": "YMOCMwPYAS8w"
      },
      "source": [
        "a = torch.tensor([[1,2,3],\n",
        "                  [4,5,6]], dtype=torch.float64)\n",
        "b = torch.tensor([1,2,3], dtype=torch.float64)"
      ],
      "execution_count": 78,
      "outputs": []
    },
    {
      "cell_type": "code",
      "metadata": {
        "id": "0KTAeJu9CK-x",
        "outputId": "59afa76c-0d6e-4410-a4aa-f9d0c873c076",
        "colab": {
          "base_uri": "https://localhost:8080/",
          "height": 85
        }
      },
      "source": [
        "print(a + b)\n",
        "print(a - b)"
      ],
      "execution_count": 81,
      "outputs": [
        {
          "output_type": "stream",
          "text": [
            "tensor([[2., 4., 6.],\n",
            "        [5., 7., 9.]], dtype=torch.float64)\n",
            "tensor([[0., 0., 0.],\n",
            "        [3., 3., 3.]], dtype=torch.float64)\n"
          ],
          "name": "stdout"
        }
      ]
    },
    {
      "cell_type": "code",
      "metadata": {
        "id": "Xg8drR6yCNvN",
        "outputId": "399b59e3-c1c0-4550-cf9b-1bcb788eedfc",
        "colab": {
          "base_uri": "https://localhost:8080/",
          "height": 51
        }
      },
      "source": [
        "print(a * b)\n",
        "print(a / b)\n",
        "print(a // b)\n",
        "print(a % b)"
      ],
      "execution_count": 82,
      "outputs": [
        {
          "output_type": "stream",
          "text": [
            "tensor([[ 1.,  4.,  9.],\n",
            "        [ 4., 10., 18.]], dtype=torch.float64)\n"
          ],
          "name": "stdout"
        }
      ]
    },
    {
      "cell_type": "code",
      "metadata": {
        "id": "5WeehScUCyG9"
      },
      "source": [
        " "
      ],
      "execution_count": null,
      "outputs": []
    }
  ]
}